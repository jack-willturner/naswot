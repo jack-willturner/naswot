{
 "cells": [
  {
   "cell_type": "code",
   "execution_count": 6,
   "source": [
    "import pandas as pd\n",
    "\n",
    "extract_accuracy_funcs = [\n",
    "    ('CIFAR-10 (val)', lambda x: x.loc['Accuracy'][1]),\n",
    "    ('CIFAR-10 (test)', lambda x: x.loc['Accuracy'][0]),\n",
    "    ('CIFAR-100 (val)', lambda x: x.loc['Accuracy'][3]),\n",
    "    ('CIFAR-100 (test)', lambda x: x.loc['Accuracy'][2]),\n",
    "    ('ImageNet-16-120 (val)', lambda x: x.loc['Accuracy'][5]),\n",
    "    ('ImageNet-16-120 (test)', lambda x: x.loc['Accuracy'][4]),\n",
    "]\n",
    "\n",
    "def get_df(n=10):\n",
    "    filename = f\"../results/blockswap_n{n}.pd\"\n",
    "    df = pd.read_pickle(filename)\n",
    "    return df\n",
    "\n",
    "def collate_averages(df):\n",
    "    for col_name, func in extract_accuracy_funcs:\n",
    "        df[col_name] = df.apply(func, axis=1)\n",
    "\n",
    "    return df\n",
    "\n",
    "def get_row_str(df):\n",
    "    row_str = \"\"\n",
    "    for col_name, _ in extract_accuracy_funcs:\n",
    "        mu = df[col_name].mean()\n",
    "        std = df[col_name].std()\n",
    "\n",
    "        result = f\"{mu:.2f} $\\\\pm$ {std:.2f} & \"\n",
    "\n",
    "        row_str = row_str + result\n",
    "\n",
    "    return row_str"
   ],
   "outputs": [],
   "metadata": {}
  },
  {
   "cell_type": "code",
   "execution_count": 7,
   "source": [
    "\n",
    "\n",
    "for n in [10, 100]:\n",
    "    all_results = get_df(n)\n",
    "    nasbench201 = all_results[all_results.Benchmark == \"NAS-Bench-201\"]\n",
    "    nasbench201 = collate_averages(nasbench201)\n",
    "    print(get_row_str(nasbench201))"
   ],
   "outputs": [
    {
     "output_type": "stream",
     "name": "stdout",
     "text": [
      "87.51 $\\pm$ 3.44 & 90.91 $\\pm$ 3.22 & 65.83 $\\pm$ 5.01 & 65.96 $\\pm$ 5.05 & 36.72 $\\pm$ 7.56 & 36.71 $\\pm$ 7.86 & \n",
      "87.28 $\\pm$ 1.91 & 90.47 $\\pm$ 2.16 & 63.85 $\\pm$ 4.49 & 63.99 $\\pm$ 4.52 & 33.10 $\\pm$ 7.82 & 32.91 $\\pm$ 8.00 & \n"
     ]
    },
    {
     "output_type": "stream",
     "name": "stderr",
     "text": [
      "<ipython-input-6-f5c9a7041d63>:19: SettingWithCopyWarning: \n",
      "A value is trying to be set on a copy of a slice from a DataFrame.\n",
      "Try using .loc[row_indexer,col_indexer] = value instead\n",
      "\n",
      "See the caveats in the documentation: https://pandas.pydata.org/pandas-docs/stable/user_guide/indexing.html#returning-a-view-versus-a-copy\n",
      "  df[col_name] = df.apply(func, axis=1)\n",
      "<ipython-input-6-f5c9a7041d63>:19: SettingWithCopyWarning: \n",
      "A value is trying to be set on a copy of a slice from a DataFrame.\n",
      "Try using .loc[row_indexer,col_indexer] = value instead\n",
      "\n",
      "See the caveats in the documentation: https://pandas.pydata.org/pandas-docs/stable/user_guide/indexing.html#returning-a-view-versus-a-copy\n",
      "  df[col_name] = df.apply(func, axis=1)\n"
     ]
    }
   ],
   "metadata": {}
  },
  {
   "cell_type": "code",
   "execution_count": null,
   "source": [],
   "outputs": [],
   "metadata": {}
  }
 ],
 "metadata": {
  "kernelspec": {
   "name": "python3",
   "display_name": "Python 3.8.10 64-bit ('tvm': conda)"
  },
  "language_info": {
   "codemirror_mode": {
    "name": "ipython",
    "version": 3
   },
   "file_extension": ".py",
   "mimetype": "text/x-python",
   "name": "python",
   "nbconvert_exporter": "python",
   "pygments_lexer": "ipython3",
   "version": "3.8.10"
  },
  "interpreter": {
   "hash": "2c62112cb75a8dcea2a59d5d6c130b4ea78ad2cfe8279f1846225255a82a039a"
  }
 },
 "nbformat": 4,
 "nbformat_minor": 5
}